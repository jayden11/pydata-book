{
 "metadata": {
  "name": "Chapter 2.1"
 },
 "nbformat": 3,
 "nbformat_minor": 0,
 "worksheets": [
  {
   "cells": [
    {
     "cell_type": "code",
     "collapsed": false,
     "input": [
      "path = 'usagov_bitly_data2012-03-16-1331923249.txt'\n",
      "open(path).readline()"
     ],
     "language": "python",
     "metadata": {},
     "outputs": [
      {
       "output_type": "pyout",
       "prompt_number": 43,
       "text": [
        "'{ \"a\": \"Mozilla\\\\/5.0 (Windows NT 6.1; WOW64) AppleWebKit\\\\/535.11 (KHTML, like Gecko) Chrome\\\\/17.0.963.78 Safari\\\\/535.11\", \"c\": \"US\", \"nk\": 1, \"tz\": \"America\\\\/New_York\", \"gr\": \"MA\", \"g\": \"A6qOVH\", \"h\": \"wfLQtf\", \"l\": \"orofrog\", \"al\": \"en-US,en;q=0.8\", \"hh\": \"1.usa.gov\", \"r\": \"http:\\\\/\\\\/www.facebook.com\\\\/l\\\\/7AQEFzjSi\\\\/1.usa.gov\\\\/wfLQtf\", \"u\": \"http:\\\\/\\\\/www.ncbi.nlm.nih.gov\\\\/pubmed\\\\/22415991\", \"t\": 1331923247, \"hc\": 1331822918, \"cy\": \"Danvers\", \"ll\": [ 42.576698, -70.954903 ] }\\n'"
       ]
      }
     ],
     "prompt_number": 43
    },
    {
     "cell_type": "code",
     "collapsed": false,
     "input": [
      "import json\n",
      "records = [json.loads(line) for line in open(path)]"
     ],
     "language": "python",
     "metadata": {},
     "outputs": [],
     "prompt_number": 44
    },
    {
     "cell_type": "code",
     "collapsed": false,
     "input": [
      "records[0]"
     ],
     "language": "python",
     "metadata": {},
     "outputs": [
      {
       "output_type": "pyout",
       "prompt_number": 45,
       "text": [
        "{u'a': u'Mozilla/5.0 (Windows NT 6.1; WOW64) AppleWebKit/535.11 (KHTML, like Gecko) Chrome/17.0.963.78 Safari/535.11',\n",
        " u'al': u'en-US,en;q=0.8',\n",
        " u'c': u'US',\n",
        " u'cy': u'Danvers',\n",
        " u'g': u'A6qOVH',\n",
        " u'gr': u'MA',\n",
        " u'h': u'wfLQtf',\n",
        " u'hc': 1331822918,\n",
        " u'hh': u'1.usa.gov',\n",
        " u'l': u'orofrog',\n",
        " u'll': [42.576698, -70.954903],\n",
        " u'nk': 1,\n",
        " u'r': u'http://www.facebook.com/l/7AQEFzjSi/1.usa.gov/wfLQtf',\n",
        " u't': 1331923247,\n",
        " u'tz': u'America/New_York',\n",
        " u'u': u'http://www.ncbi.nlm.nih.gov/pubmed/22415991'}"
       ]
      }
     ],
     "prompt_number": 45
    },
    {
     "cell_type": "code",
     "collapsed": false,
     "input": [
      "records[0]['tz']"
     ],
     "language": "python",
     "metadata": {},
     "outputs": [
      {
       "output_type": "pyout",
       "prompt_number": 46,
       "text": [
        "u'America/New_York'"
       ]
      }
     ],
     "prompt_number": 46
    },
    {
     "cell_type": "code",
     "collapsed": false,
     "input": [
      "time_zones = [rec['tz'] for rec in records if 'tz' in rec]"
     ],
     "language": "python",
     "metadata": {},
     "outputs": [],
     "prompt_number": 47
    },
    {
     "cell_type": "code",
     "collapsed": false,
     "input": [
      "time_zones[:10]"
     ],
     "language": "python",
     "metadata": {},
     "outputs": [
      {
       "output_type": "pyout",
       "prompt_number": 48,
       "text": [
        "[u'America/New_York',\n",
        " u'America/Denver',\n",
        " u'America/New_York',\n",
        " u'America/Sao_Paulo',\n",
        " u'America/New_York',\n",
        " u'America/New_York',\n",
        " u'Europe/Warsaw',\n",
        " u'',\n",
        " u'',\n",
        " u'']"
       ]
      }
     ],
     "prompt_number": 48
    },
    {
     "cell_type": "code",
     "collapsed": false,
     "input": [
      "# One way to do counts of the timezones (Python standard Library)\n",
      "def get_counts(sequence):\n",
      "    counts = {}\n",
      "    for x in sequence:\n",
      "        if x in counts:\n",
      "            counts[x] += 1\n",
      "        else:\n",
      "            counts[x] = 1\n",
      "    return counts"
     ],
     "language": "python",
     "metadata": {},
     "outputs": [],
     "prompt_number": 49
    },
    {
     "cell_type": "code",
     "collapsed": false,
     "input": [
      "# With a little more knowledge of the standard library:\n",
      "from collections import defaultdict\n",
      "def get_counts2(sequence):\n",
      "    counts = defaultdict(int) # values will initialize to 0\n",
      "    for x in sequence:\n",
      "        counts[x] += 1\n",
      "    return counts"
     ],
     "language": "python",
     "metadata": {},
     "outputs": [],
     "prompt_number": 50
    },
    {
     "cell_type": "code",
     "collapsed": false,
     "input": [
      "# Wes didn't include this, but this is how I would do it\n",
      "from collections import Counter\n",
      "# I wouldn't normally make a function, but we'll fit in with Wes\n",
      "def get_counts3(sequence):\n",
      "    return Counter(sequence)\n",
      "\n",
      "# Edit: Guess I should have given him some time... He did mention this later."
     ],
     "language": "python",
     "metadata": {},
     "outputs": [],
     "prompt_number": 51
    },
    {
     "cell_type": "code",
     "collapsed": false,
     "input": [
      "counts = get_counts(time_zones)"
     ],
     "language": "python",
     "metadata": {},
     "outputs": [],
     "prompt_number": 52
    },
    {
     "cell_type": "code",
     "collapsed": false,
     "input": [
      "counts['America/New_York']"
     ],
     "language": "python",
     "metadata": {},
     "outputs": [
      {
       "output_type": "pyout",
       "prompt_number": 53,
       "text": [
        "1251"
       ]
      }
     ],
     "prompt_number": 53
    },
    {
     "cell_type": "code",
     "collapsed": false,
     "input": [
      "len(time_zones)"
     ],
     "language": "python",
     "metadata": {},
     "outputs": [
      {
       "output_type": "pyout",
       "prompt_number": 54,
       "text": [
        "3440"
       ]
      }
     ],
     "prompt_number": 54
    },
    {
     "cell_type": "code",
     "collapsed": false,
     "input": [
      "def top_counts(count_dict, n=10):\n",
      "    value_key_pairs = [(count, tz) for tz, count in count_dict.items()]\n",
      "    value_key_pairs.sort()\n",
      "    return value_key_pairs[-n:]"
     ],
     "language": "python",
     "metadata": {},
     "outputs": [],
     "prompt_number": 55
    },
    {
     "cell_type": "code",
     "collapsed": false,
     "input": [
      "top_counts(counts)"
     ],
     "language": "python",
     "metadata": {},
     "outputs": [
      {
       "output_type": "pyout",
       "prompt_number": 56,
       "text": [
        "[(33, u'America/Sao_Paulo'),\n",
        " (35, u'Europe/Madrid'),\n",
        " (36, u'Pacific/Honolulu'),\n",
        " (37, u'Asia/Tokyo'),\n",
        " (74, u'Europe/London'),\n",
        " (191, u'America/Denver'),\n",
        " (382, u'America/Los_Angeles'),\n",
        " (400, u'America/Chicago'),\n",
        " (521, u''),\n",
        " (1251, u'America/New_York')]"
       ]
      }
     ],
     "prompt_number": 56
    },
    {
     "cell_type": "code",
     "collapsed": false,
     "input": [
      "# Oh. Wes did include collections.Counter and the lovely most_common function\n",
      "from collections import Counter\n",
      "counts = Counter(time_zones)\n",
      "counts.most_common(10)"
     ],
     "language": "python",
     "metadata": {},
     "outputs": [
      {
       "output_type": "pyout",
       "prompt_number": 57,
       "text": [
        "[(u'America/New_York', 1251),\n",
        " (u'', 521),\n",
        " (u'America/Chicago', 400),\n",
        " (u'America/Los_Angeles', 382),\n",
        " (u'America/Denver', 191),\n",
        " (u'Europe/London', 74),\n",
        " (u'Asia/Tokyo', 37),\n",
        " (u'Pacific/Honolulu', 36),\n",
        " (u'Europe/Madrid', 35),\n",
        " (u'America/Sao_Paulo', 33)]"
       ]
      }
     ],
     "prompt_number": 57
    },
    {
     "cell_type": "code",
     "collapsed": false,
     "input": [
      "from pandas import DataFrame, Series\n",
      "import pandas as pd\n",
      "frame = DataFrame(records)"
     ],
     "language": "python",
     "metadata": {},
     "outputs": [],
     "prompt_number": 58
    },
    {
     "cell_type": "code",
     "collapsed": false,
     "input": [
      "frame"
     ],
     "language": "python",
     "metadata": {},
     "outputs": [
      {
       "output_type": "pyout",
       "prompt_number": 59,
       "text": [
        "<class 'pandas.core.frame.DataFrame'>\n",
        "Int64Index: 3560 entries, 0 to 3559\n",
        "Data columns:\n",
        "_heartbeat_    120  non-null values\n",
        "a              3440  non-null values\n",
        "al             3094  non-null values\n",
        "c              2919  non-null values\n",
        "cy             2919  non-null values\n",
        "g              3440  non-null values\n",
        "gr             2919  non-null values\n",
        "h              3440  non-null values\n",
        "hc             3440  non-null values\n",
        "hh             3440  non-null values\n",
        "kw             93  non-null values\n",
        "l              3440  non-null values\n",
        "ll             2919  non-null values\n",
        "nk             3440  non-null values\n",
        "r              3440  non-null values\n",
        "t              3440  non-null values\n",
        "tz             3440  non-null values\n",
        "u              3440  non-null values\n",
        "dtypes: float64(4), object(14)"
       ]
      }
     ],
     "prompt_number": 59
    },
    {
     "cell_type": "code",
     "collapsed": false,
     "input": [
      "frame['tz'][:10]"
     ],
     "language": "python",
     "metadata": {},
     "outputs": [
      {
       "output_type": "pyout",
       "prompt_number": 60,
       "text": [
        "0     America/New_York\n",
        "1       America/Denver\n",
        "2     America/New_York\n",
        "3    America/Sao_Paulo\n",
        "4     America/New_York\n",
        "5     America/New_York\n",
        "6        Europe/Warsaw\n",
        "7                     \n",
        "8                     \n",
        "9                     \n",
        "Name: tz"
       ]
      }
     ],
     "prompt_number": 60
    },
    {
     "cell_type": "code",
     "collapsed": false,
     "input": [
      "tz_counts = frame['tz'].value_counts()"
     ],
     "language": "python",
     "metadata": {},
     "outputs": [],
     "prompt_number": 61
    },
    {
     "cell_type": "code",
     "collapsed": false,
     "input": [
      "tz_counts[:10]"
     ],
     "language": "python",
     "metadata": {},
     "outputs": [
      {
       "output_type": "pyout",
       "prompt_number": 62,
       "text": [
        "America/New_York       1251\n",
        "                        521\n",
        "America/Chicago         400\n",
        "America/Los_Angeles     382\n",
        "America/Denver          191\n",
        "Europe/London            74\n",
        "Asia/Tokyo               37\n",
        "Pacific/Honolulu         36\n",
        "Europe/Madrid            35\n",
        "America/Sao_Paulo        33"
       ]
      }
     ],
     "prompt_number": 62
    },
    {
     "cell_type": "code",
     "collapsed": false,
     "input": [
      "clean_tz = frame['tz'].fillna('Missing')\n",
      "clean_tz[clean_tz == ''] = 'Unknown'\n",
      "tz_counts = clean_tz.value_counts()\n",
      "tz_counts[:10]"
     ],
     "language": "python",
     "metadata": {},
     "outputs": [
      {
       "output_type": "pyout",
       "prompt_number": 63,
       "text": [
        "America/New_York       1251\n",
        "Unknown                 521\n",
        "America/Chicago         400\n",
        "America/Los_Angeles     382\n",
        "America/Denver          191\n",
        "Missing                 120\n",
        "Europe/London            74\n",
        "Asia/Tokyo               37\n",
        "Pacific/Honolulu         36\n",
        "Europe/Madrid            35"
       ]
      }
     ],
     "prompt_number": 63
    },
    {
     "cell_type": "code",
     "collapsed": false,
     "input": [
      "tz_counts[:10].plot(kind='barh', rot=0)"
     ],
     "language": "python",
     "metadata": {},
     "outputs": [
      {
       "output_type": "pyout",
       "prompt_number": 64,
       "text": [
        "<matplotlib.axes.AxesSubplot at 0x546f9d0>"
       ]
      },
      {
       "output_type": "display_data",
       "png": "[encoded data removed]"
      }
     ],
     "prompt_number": 64
    },
    {
     "cell_type": "code",
     "collapsed": false,
     "input": [
      "frame['a'][1]"
     ],
     "language": "python",
     "metadata": {},
     "outputs": [
      {
       "output_type": "pyout",
       "prompt_number": 65,
       "text": [
        "u'GoogleMaps/RochesterNY'"
       ]
      }
     ],
     "prompt_number": 65
    },
    {
     "cell_type": "code",
     "collapsed": false,
     "input": [
      "frame['a'][50]"
     ],
     "language": "python",
     "metadata": {},
     "outputs": [
      {
       "output_type": "pyout",
       "prompt_number": 66,
       "text": [
        "u'Mozilla/5.0 (Windows NT 5.1; rv:10.0.2) Gecko/20100101 Firefox/10.0.2'"
       ]
      }
     ],
     "prompt_number": 66
    },
    {
     "cell_type": "code",
     "collapsed": false,
     "input": [
      "frame['a'][51]"
     ],
     "language": "python",
     "metadata": {},
     "outputs": [
      {
       "output_type": "pyout",
       "prompt_number": 67,
       "text": [
        "u'Mozilla/5.0 (Linux; U; Android 2.2.2; en-us; LG-P925/V10e Build/FRG83G) AppleWebKit/533.1 (KHTML, like Gecko) Version/4.0 Mobile Safari/533.1'"
       ]
      }
     ],
     "prompt_number": 67
    },
    {
     "cell_type": "code",
     "collapsed": false,
     "input": [
      "results = Series([x.split()[0] for x in frame.a.dropna()])\n",
      "results[:5]"
     ],
     "language": "python",
     "metadata": {},
     "outputs": [
      {
       "output_type": "pyout",
       "prompt_number": 68,
       "text": [
        "0               Mozilla/5.0\n",
        "1    GoogleMaps/RochesterNY\n",
        "2               Mozilla/4.0\n",
        "3               Mozilla/5.0\n",
        "4               Mozilla/5.0"
       ]
      }
     ],
     "prompt_number": 68
    },
    {
     "cell_type": "code",
     "collapsed": false,
     "input": [
      "results.value_counts()[:8]"
     ],
     "language": "python",
     "metadata": {},
     "outputs": [
      {
       "output_type": "pyout",
       "prompt_number": 69,
       "text": [
        "Mozilla/5.0                 2594\n",
        "Mozilla/4.0                  601\n",
        "GoogleMaps/RochesterNY       121\n",
        "Opera/9.80                    34\n",
        "TEST_INTERNET_AGENT           24\n",
        "GoogleProducer                21\n",
        "Mozilla/6.0                    5\n",
        "BlackBerry8520/5.0.0.681       4"
       ]
      }
     ],
     "prompt_number": 69
    },
    {
     "cell_type": "code",
     "collapsed": false,
     "input": [],
     "language": "python",
     "metadata": {},
     "outputs": [],
     "prompt_number": 69
    },
    {
     "cell_type": "code",
     "collapsed": false,
     "input": [
      "frame.head()"
     ],
     "language": "python",
     "metadata": {},
     "outputs": [
      {
       "html": [
        "<div style=\"max-height:1000px;max-width:1500px;overflow:auto;\">\n",
        "<table border=\"1\" class=\"dataframe\">\n",
        "  <thead>\n",
        "    <tr style=\"text-align: right;\">\n",
        "      <th></th>\n",
        "      <th>_heartbeat_</th>\n",
        "      <th>a</th>\n",
        "      <th>al</th>\n",
        "      <th>c</th>\n",
        "      <th>cy</th>\n",
        "      <th>g</th>\n",
        "      <th>gr</th>\n",
        "      <th>h</th>\n",
        "      <th>hc</th>\n",
        "      <th>hh</th>\n",
        "      <th>kw</th>\n",
        "      <th>l</th>\n",
        "      <th>ll</th>\n",
        "      <th>nk</th>\n",
        "      <th>r</th>\n",
        "      <th>t</th>\n",
        "      <th>tz</th>\n",
        "      <th>u</th>\n",
        "    </tr>\n",
        "  </thead>\n",
        "  <tbody>\n",
        "    <tr>\n",
        "      <th>0</th>\n",
        "      <td>NaN</td>\n",
        "      <td> Mozilla/5.0 (Windows NT 6.1; WOW64) AppleWebKi...</td>\n",
        "      <td> en-US,en;q=0.8</td>\n",
        "      <td> US</td>\n",
        "      <td>    Danvers</td>\n",
        "      <td> A6qOVH</td>\n",
        "      <td> MA</td>\n",
        "      <td> wfLQtf</td>\n",
        "      <td> 1331822918</td>\n",
        "      <td> 1.usa.gov</td>\n",
        "      <td> NaN</td>\n",
        "      <td>  orofrog</td>\n",
        "      <td>  [42.576698, -70.954903]</td>\n",
        "      <td> 1</td>\n",
        "      <td> http://www.facebook.com/l/7AQEFzjSi/1.usa.gov/...</td>\n",
        "      <td> 1331923247</td>\n",
        "      <td>  America/New_York</td>\n",
        "      <td>       http://www.ncbi.nlm.nih.gov/pubmed/22415991</td>\n",
        "    </tr>\n",
        "    <tr>\n",
        "      <th>1</th>\n",
        "      <td>NaN</td>\n",
        "      <td>                            GoogleMaps/RochesterNY</td>\n",
        "      <td>            NaN</td>\n",
        "      <td> US</td>\n",
        "      <td>      Provo</td>\n",
        "      <td> mwszkS</td>\n",
        "      <td> UT</td>\n",
        "      <td> mwszkS</td>\n",
        "      <td> 1308262393</td>\n",
        "      <td>      j.mp</td>\n",
        "      <td> NaN</td>\n",
        "      <td>    bitly</td>\n",
        "      <td> [40.218102, -111.613297]</td>\n",
        "      <td> 0</td>\n",
        "      <td>                          http://www.AwareMap.com/</td>\n",
        "      <td> 1331923249</td>\n",
        "      <td>    America/Denver</td>\n",
        "      <td>       http://www.monroecounty.gov/etc/911/rss.php</td>\n",
        "    </tr>\n",
        "    <tr>\n",
        "      <th>2</th>\n",
        "      <td>NaN</td>\n",
        "      <td> Mozilla/4.0 (compatible; MSIE 8.0; Windows NT ...</td>\n",
        "      <td>          en-US</td>\n",
        "      <td> US</td>\n",
        "      <td> Washington</td>\n",
        "      <td> xxr3Qb</td>\n",
        "      <td> DC</td>\n",
        "      <td> xxr3Qb</td>\n",
        "      <td> 1331919941</td>\n",
        "      <td> 1.usa.gov</td>\n",
        "      <td> NaN</td>\n",
        "      <td>    bitly</td>\n",
        "      <td>    [38.9007, -77.043098]</td>\n",
        "      <td> 1</td>\n",
        "      <td>                              http://t.co/03elZC4Q</td>\n",
        "      <td> 1331923250</td>\n",
        "      <td>  America/New_York</td>\n",
        "      <td> http://boxer.senate.gov/en/press/releases/0316...</td>\n",
        "    </tr>\n",
        "    <tr>\n",
        "      <th>3</th>\n",
        "      <td>NaN</td>\n",
        "      <td> Mozilla/5.0 (Macintosh; Intel Mac OS X 10_6_8)...</td>\n",
        "      <td>          pt-br</td>\n",
        "      <td> BR</td>\n",
        "      <td>       Braz</td>\n",
        "      <td> zCaLwp</td>\n",
        "      <td> 27</td>\n",
        "      <td> zUtuOu</td>\n",
        "      <td> 1331923068</td>\n",
        "      <td> 1.usa.gov</td>\n",
        "      <td> NaN</td>\n",
        "      <td> alelex88</td>\n",
        "      <td> [-23.549999, -46.616699]</td>\n",
        "      <td> 0</td>\n",
        "      <td>                                            direct</td>\n",
        "      <td> 1331923249</td>\n",
        "      <td> America/Sao_Paulo</td>\n",
        "      <td>           http://apod.nasa.gov/apod/ap120312.html</td>\n",
        "    </tr>\n",
        "    <tr>\n",
        "      <th>4</th>\n",
        "      <td>NaN</td>\n",
        "      <td> Mozilla/5.0 (Windows NT 6.1; WOW64) AppleWebKi...</td>\n",
        "      <td> en-US,en;q=0.8</td>\n",
        "      <td> US</td>\n",
        "      <td> Shrewsbury</td>\n",
        "      <td> 9b6kNl</td>\n",
        "      <td> MA</td>\n",
        "      <td> 9b6kNl</td>\n",
        "      <td> 1273672411</td>\n",
        "      <td>    bit.ly</td>\n",
        "      <td> NaN</td>\n",
        "      <td>    bitly</td>\n",
        "      <td>  [42.286499, -71.714699]</td>\n",
        "      <td> 0</td>\n",
        "      <td>               http://www.shrewsbury-ma.gov/selco/</td>\n",
        "      <td> 1331923251</td>\n",
        "      <td>  America/New_York</td>\n",
        "      <td> http://www.shrewsbury-ma.gov/egov/gallery/1341...</td>\n",
        "    </tr>\n",
        "  </tbody>\n",
        "</table>\n",
        "</div>"
       ],
       "output_type": "pyout",
       "prompt_number": 70,
       "text": [
        "   _heartbeat_                                                  a              al  \\\n",
        "0          NaN  Mozilla/5.0 (Windows NT 6.1; WOW64) AppleWebKi...  en-US,en;q=0.8   \n",
        "1          NaN                             GoogleMaps/RochesterNY             NaN   \n",
        "2          NaN  Mozilla/4.0 (compatible; MSIE 8.0; Windows NT ...           en-US   \n",
        "3          NaN  Mozilla/5.0 (Macintosh; Intel Mac OS X 10_6_8)...           pt-br   \n",
        "4          NaN  Mozilla/5.0 (Windows NT 6.1; WOW64) AppleWebKi...  en-US,en;q=0.8   \n",
        "\n",
        "    c          cy       g  gr       h          hc         hh   kw         l  \\\n",
        "0  US     Danvers  A6qOVH  MA  wfLQtf  1331822918  1.usa.gov  NaN   orofrog   \n",
        "1  US       Provo  mwszkS  UT  mwszkS  1308262393       j.mp  NaN     bitly   \n",
        "2  US  Washington  xxr3Qb  DC  xxr3Qb  1331919941  1.usa.gov  NaN     bitly   \n",
        "3  BR        Braz  zCaLwp  27  zUtuOu  1331923068  1.usa.gov  NaN  alelex88   \n",
        "4  US  Shrewsbury  9b6kNl  MA  9b6kNl  1273672411     bit.ly  NaN     bitly   \n",
        "\n",
        "                         ll  nk  \\\n",
        "0   [42.576698, -70.954903]   1   \n",
        "1  [40.218102, -111.613297]   0   \n",
        "2     [38.9007, -77.043098]   1   \n",
        "3  [-23.549999, -46.616699]   0   \n",
        "4   [42.286499, -71.714699]   0   \n",
        "\n",
        "                                                   r           t  \\\n",
        "0  http://www.facebook.com/l/7AQEFzjSi/1.usa.gov/...  1331923247   \n",
        "1                           http://www.AwareMap.com/  1331923249   \n",
        "2                               http://t.co/03elZC4Q  1331923250   \n",
        "3                                             direct  1331923249   \n",
        "4                http://www.shrewsbury-ma.gov/selco/  1331923251   \n",
        "\n",
        "                  tz                                                  u  \n",
        "0   America/New_York        http://www.ncbi.nlm.nih.gov/pubmed/22415991  \n",
        "1     America/Denver        http://www.monroecounty.gov/etc/911/rss.php  \n",
        "2   America/New_York  http://boxer.senate.gov/en/press/releases/0316...  \n",
        "3  America/Sao_Paulo            http://apod.nasa.gov/apod/ap120312.html  \n",
        "4   America/New_York  http://www.shrewsbury-ma.gov/egov/gallery/1341...  "
       ]
      }
     ],
     "prompt_number": 70
    },
    {
     "cell_type": "code",
     "collapsed": false,
     "input": [
      "cframe = frame[frame.a.notnull()]\n",
      "operating_system = np.where(cframe['a'].str.contains('Windows'), 'Windows', 'Not Windows')\n",
      "operating_system[:5]"
     ],
     "language": "python",
     "metadata": {},
     "outputs": [
      {
       "output_type": "pyout",
       "prompt_number": 71,
       "text": [
        "0        Windows\n",
        "1    Not Windows\n",
        "2        Windows\n",
        "3    Not Windows\n",
        "4        Windows\n",
        "Name: a"
       ]
      }
     ],
     "prompt_number": 71
    },
    {
     "cell_type": "code",
     "collapsed": false,
     "input": [
      "by_tz_os = cframe.groupby(['tz', operating_system])"
     ],
     "language": "python",
     "metadata": {},
     "outputs": [],
     "prompt_number": 72
    },
    {
     "cell_type": "code",
     "collapsed": false,
     "input": [
      "agg_counts = by_tz_os.size().unstack().fillna(0)\n",
      "agg_counts[:10]"
     ],
     "language": "python",
     "metadata": {},
     "outputs": [
      {
       "html": [
        "<div style=\"max-height:1000px;max-width:1500px;overflow:auto;\">\n",
        "<table border=\"1\" class=\"dataframe\">\n",
        "  <thead>\n",
        "    <tr style=\"text-align: right;\">\n",
        "      <th>a</th>\n",
        "      <th>Not Windows</th>\n",
        "      <th>Windows</th>\n",
        "    </tr>\n",
        "    <tr>\n",
        "      <th>tz</th>\n",
        "      <th></th>\n",
        "      <th></th>\n",
        "    </tr>\n",
        "  </thead>\n",
        "  <tbody>\n",
        "    <tr>\n",
        "      <th></th>\n",
        "      <td> 245</td>\n",
        "      <td> 276</td>\n",
        "    </tr>\n",
        "    <tr>\n",
        "      <th>Africa/Cairo</th>\n",
        "      <td>   0</td>\n",
        "      <td>   3</td>\n",
        "    </tr>\n",
        "    <tr>\n",
        "      <th>Africa/Casablanca</th>\n",
        "      <td>   0</td>\n",
        "      <td>   1</td>\n",
        "    </tr>\n",
        "    <tr>\n",
        "      <th>Africa/Ceuta</th>\n",
        "      <td>   0</td>\n",
        "      <td>   2</td>\n",
        "    </tr>\n",
        "    <tr>\n",
        "      <th>Africa/Johannesburg</th>\n",
        "      <td>   0</td>\n",
        "      <td>   1</td>\n",
        "    </tr>\n",
        "    <tr>\n",
        "      <th>Africa/Lusaka</th>\n",
        "      <td>   0</td>\n",
        "      <td>   1</td>\n",
        "    </tr>\n",
        "    <tr>\n",
        "      <th>America/Anchorage</th>\n",
        "      <td>   4</td>\n",
        "      <td>   1</td>\n",
        "    </tr>\n",
        "    <tr>\n",
        "      <th>America/Argentina/Buenos_Aires</th>\n",
        "      <td>   1</td>\n",
        "      <td>   0</td>\n",
        "    </tr>\n",
        "    <tr>\n",
        "      <th>America/Argentina/Cordoba</th>\n",
        "      <td>   0</td>\n",
        "      <td>   1</td>\n",
        "    </tr>\n",
        "    <tr>\n",
        "      <th>America/Argentina/Mendoza</th>\n",
        "      <td>   0</td>\n",
        "      <td>   1</td>\n",
        "    </tr>\n",
        "  </tbody>\n",
        "</table>\n",
        "</div>"
       ],
       "output_type": "pyout",
       "prompt_number": 73,
       "text": [
        "a                               Not Windows  Windows\n",
        "tz                                                  \n",
        "                                        245      276\n",
        "Africa/Cairo                              0        3\n",
        "Africa/Casablanca                         0        1\n",
        "Africa/Ceuta                              0        2\n",
        "Africa/Johannesburg                       0        1\n",
        "Africa/Lusaka                             0        1\n",
        "America/Anchorage                         4        1\n",
        "America/Argentina/Buenos_Aires            1        0\n",
        "America/Argentina/Cordoba                 0        1\n",
        "America/Argentina/Mendoza                 0        1"
       ]
      }
     ],
     "prompt_number": 73
    },
    {
     "cell_type": "code",
     "collapsed": false,
     "input": [
      "# Use to sort in ascending order\n",
      "indexer = agg_counts.sum(1).argsort()\n",
      "indexer[:10]"
     ],
     "language": "python",
     "metadata": {},
     "outputs": [
      {
       "output_type": "pyout",
       "prompt_number": 74,
       "text": [
        "tz\n",
        "                                  24\n",
        "Africa/Cairo                      20\n",
        "Africa/Casablanca                 21\n",
        "Africa/Ceuta                      92\n",
        "Africa/Johannesburg               87\n",
        "Africa/Lusaka                     53\n",
        "America/Anchorage                 54\n",
        "America/Argentina/Buenos_Aires    57\n",
        "America/Argentina/Cordoba         26\n",
        "America/Argentina/Mendoza         55"
       ]
      }
     ],
     "prompt_number": 74
    },
    {
     "cell_type": "code",
     "collapsed": false,
     "input": [
      "count_subset = agg_counts.take(indexer)[-10:]\n",
      "count_subset"
     ],
     "language": "python",
     "metadata": {},
     "outputs": [
      {
       "html": [
        "<div style=\"max-height:1000px;max-width:1500px;overflow:auto;\">\n",
        "<table border=\"1\" class=\"dataframe\">\n",
        "  <thead>\n",
        "    <tr style=\"text-align: right;\">\n",
        "      <th>a</th>\n",
        "      <th>Not Windows</th>\n",
        "      <th>Windows</th>\n",
        "    </tr>\n",
        "    <tr>\n",
        "      <th>tz</th>\n",
        "      <th></th>\n",
        "      <th></th>\n",
        "    </tr>\n",
        "  </thead>\n",
        "  <tbody>\n",
        "    <tr>\n",
        "      <th>America/Sao_Paulo</th>\n",
        "      <td>  13</td>\n",
        "      <td>  20</td>\n",
        "    </tr>\n",
        "    <tr>\n",
        "      <th>Europe/Madrid</th>\n",
        "      <td>  16</td>\n",
        "      <td>  19</td>\n",
        "    </tr>\n",
        "    <tr>\n",
        "      <th>Pacific/Honolulu</th>\n",
        "      <td>   0</td>\n",
        "      <td>  36</td>\n",
        "    </tr>\n",
        "    <tr>\n",
        "      <th>Asia/Tokyo</th>\n",
        "      <td>   2</td>\n",
        "      <td>  35</td>\n",
        "    </tr>\n",
        "    <tr>\n",
        "      <th>Europe/London</th>\n",
        "      <td>  43</td>\n",
        "      <td>  31</td>\n",
        "    </tr>\n",
        "    <tr>\n",
        "      <th>America/Denver</th>\n",
        "      <td> 132</td>\n",
        "      <td>  59</td>\n",
        "    </tr>\n",
        "    <tr>\n",
        "      <th>America/Los_Angeles</th>\n",
        "      <td> 130</td>\n",
        "      <td> 252</td>\n",
        "    </tr>\n",
        "    <tr>\n",
        "      <th>America/Chicago</th>\n",
        "      <td> 115</td>\n",
        "      <td> 285</td>\n",
        "    </tr>\n",
        "    <tr>\n",
        "      <th></th>\n",
        "      <td> 245</td>\n",
        "      <td> 276</td>\n",
        "    </tr>\n",
        "    <tr>\n",
        "      <th>America/New_York</th>\n",
        "      <td> 339</td>\n",
        "      <td> 912</td>\n",
        "    </tr>\n",
        "  </tbody>\n",
        "</table>\n",
        "</div>"
       ],
       "output_type": "pyout",
       "prompt_number": 75,
       "text": [
        "a                    Not Windows  Windows\n",
        "tz                                       \n",
        "America/Sao_Paulo             13       20\n",
        "Europe/Madrid                 16       19\n",
        "Pacific/Honolulu               0       36\n",
        "Asia/Tokyo                     2       35\n",
        "Europe/London                 43       31\n",
        "America/Denver               132       59\n",
        "America/Los_Angeles          130      252\n",
        "America/Chicago              115      285\n",
        "                             245      276\n",
        "America/New_York             339      912"
       ]
      }
     ],
     "prompt_number": 75
    },
    {
     "cell_type": "code",
     "collapsed": false,
     "input": [
      "count_subset.plot(kind='barh', stacked=True)"
     ],
     "language": "python",
     "metadata": {},
     "outputs": [
      {
       "output_type": "pyout",
       "prompt_number": 76,
       "text": [
        "<matplotlib.axes.AxesSubplot at 0x3fc52d0>"
       ]
      },
      {
       "output_type": "display_data",
       "png": "[encoded data removed]"
      }
     ],
     "prompt_number": 76
    },
    {
     "cell_type": "code",
     "collapsed": false,
     "input": [
      "normed_subset = count_subset.div(count_subset.sum(1), axis=0)\n",
      "normed_subset.plot(kind='barh', stacked=True)"
     ],
     "language": "python",
     "metadata": {},
     "outputs": [
      {
       "output_type": "pyout",
       "prompt_number": 77,
       "text": [
        "<matplotlib.axes.AxesSubplot at 0x4571a50>"
       ]
      },
      {
       "output_type": "display_data",
       "png": "[encoded data removed]"
      }
     ],
     "prompt_number": 77
    },
    {
     "cell_type": "code",
     "collapsed": false,
     "input": [],
     "language": "python",
     "metadata": {},
     "outputs": [],
     "prompt_number": 77
    }
   ],
   "metadata": {}
  }
 ]
}